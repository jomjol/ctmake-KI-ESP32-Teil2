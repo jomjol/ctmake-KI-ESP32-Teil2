{
 "cells": [
  {
   "cell_type": "markdown",
   "metadata": {},
   "source": [
    "# Training eines neuronalen Netzes\n",
    "\n",
    "In diesem Skript wird das Training eines neuronalen Netzes durchgeführt. Dazu werden die folgende Schritte der Reihe nach durchgeführt:\n",
    "\n",
    "0. Vorbereitung (Laden der Bibliotheken und Einstellungen\n",
    "1. Laden der Bilder\n",
    "2. Erzeugen Trainingsdaten & Testdaten\n",
    "3. Definition und Aufbau des Netzes\n",
    "4. Training\n",
    "5. Speichern des neuronalen Netzes"
   ]
  },
  {
   "cell_type": "markdown",
   "metadata": {},
   "source": [
    "### 0) Vorbereitung\n",
    "\n",
    "##### Modelname\n",
    "Damit verschiedene Versionen des neuronalen Netzes unterschieden werden, wird gleich zu Beginn ein eindeutiger Name für das Model definiert. Dieser Name wird sollte jeweils zu Beginn jedes Skripts identisch sein, damit konsistent mit denselben Daten gearbeitet wird.\n",
    "\n",
    "##### Bibliotheken\n",
    "Anschließend müssen unterschiedliche Bibliotheken für die Datei- und Bildverarbeitung, sowie für die Definition und den Aufbau von neuronalen Netzen mittels der Bibliothek Tensorflow geladen werden"
   ]
  },
  {
   "cell_type": "code",
   "execution_count": 1,
   "metadata": {},
   "outputs": [],
   "source": [
    "###############################################################################\n",
    "\n",
    "ModelNameAndVersion = \"dig-01\"\n",
    "\n",
    "###############################################################################\n",
    "\n",
    "\n",
    "import matplotlib.pyplot as plt\n",
    "import glob\n",
    "import os\n",
    "from PIL import Image \n",
    "import numpy as np\n",
    "from sklearn.utils import shuffle\n",
    "\n",
    "import tensorflow as tf\n",
    "from tensorflow.python.keras.layers import Dense, InputLayer, Conv2D, MaxPool2D, Flatten, BatchNormalization\n",
    "from tensorflow.keras.preprocessing.image import ImageDataGenerator\n",
    "from sklearn.model_selection import train_test_split\n"
   ]
  },
  {
   "cell_type": "markdown",
   "metadata": {},
   "source": [
    "### 1) Laden der Trainingsbilder\n",
    "Die Trainingsbilder werden aus einem Verzeichnis geladen. Da neben dem Bild auch die Klassifizierung notwendig ist, wird diese direkt im Dateinamen nach folgender Nomenklatur gespeichert:\n",
    "\n",
    "Die Bilddaten und die Klassifizierung wird in den beiden Arrays x_data (Bilddaten) und y_data (Klassifizierung) gespeichert:"
   ]
  },
  {
   "cell_type": "code",
   "execution_count": 2,
   "metadata": {},
   "outputs": [
    {
     "name": "stdout",
     "output_type": "stream",
     "text": [
      "(490, 32, 20, 3)\n",
      "(490, 11)\n"
     ]
    }
   ],
   "source": [
    "###### Festlegen der Variablen und Initialisieren der Arrays ########################\n",
    "Input_dir='bilder_resize'\n",
    "x_data = []\n",
    "y_data = []\n",
    "\n",
    "\n",
    "###### Laden der Bildateien in einer Schleife über als jpeg-Bilder ##################\n",
    "files = glob.glob(Input_dir + '/*.jpg')\n",
    "for aktfile in files:\n",
    "    img = Image.open(aktfile)                              # Laden der Bilddaten\n",
    "    data = np.array(img)\n",
    "    x_data.append(data)\n",
    "    \n",
    "    Dateiname      = os.path.basename(aktfile)             # Dateiname\n",
    "    Classification = Dateiname[0:1]                        # 1. Ziffer = Zielwert\n",
    "    if Classification == \"N\":\n",
    "        category = 10                          \n",
    "    else:\n",
    "        category = int(Classification)\n",
    "    category_vektor = tf.keras.utils.to_categorical(category, 11) # Umwandlung in Vektor\n",
    "    y_data.append(category_vektor)\n",
    "\n",
    "x_data = np.array(x_data)\n",
    "y_data = np.array(y_data)\n",
    "\n",
    "print(x_data.shape)\n",
    "print(y_data.shape)\n"
   ]
  },
  {
   "cell_type": "markdown",
   "metadata": {},
   "source": [
    "### 2) Erzeugen Trainingsdaten & Testdaten\n",
    "\n",
    "##### Mischen und Zerteilung der Trainingsdaten\n",
    "Zunächst werden die geladenen Bilder über die Funktion \"shuffle\" gemischt. Durch die Verwendung von x_data und y_data gleichzeit, wird die Zuordnung im Array erhalten\n",
    "\n",
    "Anschließend werden die Bilddaten in Trainingsdaten (x/y_train) und Testdaten (x/y_test) aufgeteilt.\n",
    "\n",
    "##### Image Augmentation\n",
    "Als nächste wird der im ersten Teil schon bekannte ImageDataGenerator definiert, der die Eingangsbilder mit den verschiedenen Parametern (shift, brightness, zoom, rotation) zufällig modifiziert und dann ausgibt.\n",
    "Hier wird nun eine Batchgröße von 4 verwendet, diese hat sich in verschiedenen Netzgeometrien bewährt.\n",
    "Der Generator wird sowohl auf die Trainings- wie auch auf die Testdaten angewendet."
   ]
  },
  {
   "cell_type": "code",
   "execution_count": 3,
   "metadata": {},
   "outputs": [
    {
     "name": "stdout",
     "output_type": "stream",
     "text": [
      "(392, 32, 20, 3)\n",
      "(98, 32, 20, 3)\n",
      "(392, 11)\n",
      "(98, 11)\n"
     ]
    }
   ],
   "source": [
    "x_data, y_data = shuffle(x_data, y_data)\n",
    "\n",
    "Training_Percentage = 0.2\n",
    "x_train, x_test, y_train, y_test = train_test_split(x_data, y_data, \n",
    "                                                    test_size=Training_Percentage)\n",
    "print(x_train.shape)\n",
    "print(x_test.shape)\n",
    "\n",
    "print(y_train.shape)\n",
    "print(y_test.shape)\n",
    "\n",
    "\n",
    "### Image Augmentation\n",
    "Shift_Range = 2\n",
    "Brightness_Range = 0.3\n",
    "Rotation_Angle = 5\n",
    "ZoomRange = 0.2\n",
    "\n",
    "### OHNE Image Augmentation\n",
    "#Shift_Range = 0\n",
    "#Brightness_Range = 0\n",
    "#Rotation_Angle = 0\n",
    "#ZoomRange = 0\n",
    "\n",
    "datagen = ImageDataGenerator(width_shift_range  = [-Shift_Range, Shift_Range], \n",
    "                             height_shift_range = [-Shift_Range, Shift_Range],\n",
    "                             brightness_range   = [1-Brightness_Range, 1+Brightness_Range],\n",
    "                             zoom_range         = [1-ZoomRange, 1+ZoomRange],\n",
    "                             rotation_range     = Rotation_Angle)\n",
    "Batch_Size = 4\n",
    "train_iterator      = datagen.flow(x_train, y_train, batch_size=Batch_Size)\n",
    "validation_iterator = datagen.flow(x_test,  y_test,  batch_size=Batch_Size)"
   ]
  },
  {
   "cell_type": "markdown",
   "metadata": {},
   "source": [
    "### 3) Definition und Aufbau des Netzes\n",
    "Das Layout besteht aus einer Abfolge von **Convolutional** und **MaxPooling** Layern. Zu Beginn kommt noch ein Layer zum Normalisieren der Eingangsdaten. Vor dem Ausgangslayer gibt es noch einen \"flachen\" Layer mit 512 Neuronen.\n",
    "\n",
    "##### Input\n",
    "* Bilder der Größe 32x20 Pixel mit 3 Farbkanalen --> input_shape = (32,20,3)\n",
    "\n",
    "##### Output\n",
    "* 11 Neuronen: Ziffern 0, 1, ..., 9 + Not-A-Number als Sonderfall\n",
    "\n",
    "#### Kompilieren\n",
    "Zum Abschluss wird hier das Netzwerk noch Kompiliert, damit es für die Verwendung verwendbar ist. Die Detailparameter hierfür findet man in der einschlägigen Literatur"
   ]
  },
  {
   "cell_type": "code",
   "execution_count": 4,
   "metadata": {},
   "outputs": [
    {
     "name": "stdout",
     "output_type": "stream",
     "text": [
      "Model: \"sequential\"\n",
      "_________________________________________________________________\n",
      "Layer (type)                 Output Shape              Param #   \n",
      "=================================================================\n",
      "batch_normalization (BatchNo (None, 32, 20, 3)         12        \n",
      "_________________________________________________________________\n",
      "conv2d (Conv2D)              (None, 32, 20, 16)        448       \n",
      "_________________________________________________________________\n",
      "max_pooling2d (MaxPooling2D) (None, 16, 10, 16)        0         \n",
      "_________________________________________________________________\n",
      "conv2d_1 (Conv2D)            (None, 16, 10, 32)        4640      \n",
      "_________________________________________________________________\n",
      "max_pooling2d_1 (MaxPooling2 (None, 8, 5, 32)          0         \n",
      "_________________________________________________________________\n",
      "conv2d_2 (Conv2D)            (None, 8, 5, 16)          4624      \n",
      "_________________________________________________________________\n",
      "max_pooling2d_2 (MaxPooling2 (None, 4, 2, 16)          0         \n",
      "_________________________________________________________________\n",
      "flatten (Flatten)            (None, 128)               0         \n",
      "_________________________________________________________________\n",
      "dense (Dense)                (None, 128)               16512     \n",
      "_________________________________________________________________\n",
      "dense_1 (Dense)              (None, 11)                1419      \n",
      "=================================================================\n",
      "Total params: 27,655\n",
      "Trainable params: 27,649\n",
      "Non-trainable params: 6\n",
      "_________________________________________________________________\n"
     ]
    }
   ],
   "source": [
    "model = tf.keras.Sequential()\n",
    "\n",
    "model.add(BatchNormalization(input_shape=(32,20,3)))\n",
    "model.add(Conv2D(16, (3, 3), padding='same', activation=\"relu\"))\n",
    "model.add(MaxPool2D(pool_size=(2,2)))\n",
    "model.add(Conv2D(32, (3, 3), padding='same', activation=\"relu\"))\n",
    "model.add(MaxPool2D(pool_size=(2,2)))\n",
    "model.add(Conv2D(16, (3, 3), padding='same', activation=\"relu\"))\n",
    "model.add(MaxPool2D(pool_size=(2,2)))\n",
    "model.add(Flatten())\n",
    "model.add(Dense(128,activation=\"relu\"))\n",
    "model.add(Dense(11, activation = \"softmax\"))\n",
    "\n",
    "model.summary()\n",
    "\n",
    "model.compile(loss= tf.keras.losses.categorical_crossentropy, \n",
    "              optimizer= tf.keras.optimizers.Adadelta(learning_rate=1.0, rho=0.95), \n",
    "              metrics = [\"accuracy\"])"
   ]
  },
  {
   "cell_type": "markdown",
   "metadata": {},
   "source": [
    "### 4) Training des Netzes\n",
    "Beim Training müssen die Anzahl der Trainingszyklen (Epoch_Anz) und die Größe der gleichzeitig trainierten Bilder (Batch_Size) definiert werden"
   ]
  },
  {
   "cell_type": "code",
   "execution_count": 5,
   "metadata": {},
   "outputs": [
    {
     "name": "stdout",
     "output_type": "stream",
     "text": [
      "Epoch 1/100\n",
      "98/98 [==============================] - 2s 12ms/step - loss: 2.1611 - accuracy: 0.3715 - val_loss: 2.2763 - val_accuracy: 0.3469\n",
      "Epoch 2/100\n",
      "98/98 [==============================] - 0s 5ms/step - loss: 1.7425 - accuracy: 0.4640 - val_loss: 1.9622 - val_accuracy: 0.3776\n",
      "Epoch 3/100\n",
      "98/98 [==============================] - 0s 4ms/step - loss: 1.5952 - accuracy: 0.5297 - val_loss: 1.5454 - val_accuracy: 0.5408\n",
      "Epoch 4/100\n",
      "98/98 [==============================] - 0s 4ms/step - loss: 1.4667 - accuracy: 0.5556 - val_loss: 1.4736 - val_accuracy: 0.5918\n",
      "Epoch 5/100\n",
      "98/98 [==============================] - 0s 4ms/step - loss: 1.2110 - accuracy: 0.6392 - val_loss: 1.5515 - val_accuracy: 0.5000\n",
      "Epoch 6/100\n",
      "98/98 [==============================] - 0s 4ms/step - loss: 1.0078 - accuracy: 0.6903 - val_loss: 1.3679 - val_accuracy: 0.5918\n",
      "Epoch 7/100\n",
      "98/98 [==============================] - 0s 4ms/step - loss: 0.9746 - accuracy: 0.6908 - val_loss: 1.5249 - val_accuracy: 0.4694\n",
      "Epoch 8/100\n",
      "98/98 [==============================] - 0s 4ms/step - loss: 0.8810 - accuracy: 0.7005 - val_loss: 1.2504 - val_accuracy: 0.6327\n",
      "Epoch 9/100\n",
      "98/98 [==============================] - 0s 4ms/step - loss: 0.7736 - accuracy: 0.7926 - val_loss: 0.9682 - val_accuracy: 0.6939\n",
      "Epoch 10/100\n",
      "98/98 [==============================] - 0s 5ms/step - loss: 0.5749 - accuracy: 0.8115 - val_loss: 1.0033 - val_accuracy: 0.6939\n",
      "Epoch 11/100\n",
      "98/98 [==============================] - 0s 5ms/step - loss: 0.5868 - accuracy: 0.8146 - val_loss: 0.9229 - val_accuracy: 0.7449\n",
      "Epoch 12/100\n",
      "98/98 [==============================] - 0s 5ms/step - loss: 0.5571 - accuracy: 0.8280 - val_loss: 1.0237 - val_accuracy: 0.6429\n",
      "Epoch 13/100\n",
      "98/98 [==============================] - 0s 5ms/step - loss: 0.6075 - accuracy: 0.8143 - val_loss: 1.1221 - val_accuracy: 0.6633\n",
      "Epoch 14/100\n",
      "98/98 [==============================] - 0s 4ms/step - loss: 0.4433 - accuracy: 0.8481 - val_loss: 0.7662 - val_accuracy: 0.7959\n",
      "Epoch 15/100\n",
      "98/98 [==============================] - 0s 4ms/step - loss: 0.3594 - accuracy: 0.8674 - val_loss: 1.0041 - val_accuracy: 0.6939\n",
      "Epoch 16/100\n",
      "98/98 [==============================] - 0s 4ms/step - loss: 0.5425 - accuracy: 0.8737 - val_loss: 0.8334 - val_accuracy: 0.7551\n",
      "Epoch 17/100\n",
      "98/98 [==============================] - 0s 5ms/step - loss: 0.4385 - accuracy: 0.8581 - val_loss: 1.0039 - val_accuracy: 0.7755\n",
      "Epoch 18/100\n",
      "98/98 [==============================] - 0s 5ms/step - loss: 0.3740 - accuracy: 0.9003 - val_loss: 0.8954 - val_accuracy: 0.7653\n",
      "Epoch 19/100\n",
      "98/98 [==============================] - 0s 5ms/step - loss: 0.3466 - accuracy: 0.8644 - val_loss: 0.6147 - val_accuracy: 0.7959\n",
      "Epoch 20/100\n",
      "98/98 [==============================] - 0s 5ms/step - loss: 0.3363 - accuracy: 0.9029 - val_loss: 0.6404 - val_accuracy: 0.7857\n",
      "Epoch 21/100\n",
      "98/98 [==============================] - 0s 5ms/step - loss: 0.3218 - accuracy: 0.9077 - val_loss: 1.0865 - val_accuracy: 0.7347\n",
      "Epoch 22/100\n",
      "98/98 [==============================] - 0s 4ms/step - loss: 0.3041 - accuracy: 0.9050 - val_loss: 0.9527 - val_accuracy: 0.7143\n",
      "Epoch 23/100\n",
      "98/98 [==============================] - 0s 4ms/step - loss: 0.2716 - accuracy: 0.9277 - val_loss: 0.6777 - val_accuracy: 0.7449\n",
      "Epoch 24/100\n",
      "98/98 [==============================] - 0s 4ms/step - loss: 0.2696 - accuracy: 0.9112 - val_loss: 0.4860 - val_accuracy: 0.8265\n",
      "Epoch 25/100\n",
      "98/98 [==============================] - 0s 4ms/step - loss: 0.2550 - accuracy: 0.9223 - val_loss: 0.6422 - val_accuracy: 0.7653\n",
      "Epoch 26/100\n",
      "98/98 [==============================] - 0s 4ms/step - loss: 0.2336 - accuracy: 0.9410 - val_loss: 0.6761 - val_accuracy: 0.7959\n",
      "Epoch 27/100\n",
      "98/98 [==============================] - 0s 5ms/step - loss: 0.2340 - accuracy: 0.9258 - val_loss: 0.7428 - val_accuracy: 0.7755\n",
      "Epoch 28/100\n",
      "98/98 [==============================] - 1s 5ms/step - loss: 0.2487 - accuracy: 0.9270 - val_loss: 0.8184 - val_accuracy: 0.7653\n",
      "Epoch 29/100\n",
      "98/98 [==============================] - 0s 4ms/step - loss: 0.1847 - accuracy: 0.9471 - val_loss: 0.7642 - val_accuracy: 0.7959\n",
      "Epoch 30/100\n",
      "98/98 [==============================] - 0s 4ms/step - loss: 0.1682 - accuracy: 0.9396 - val_loss: 0.9040 - val_accuracy: 0.7551\n",
      "Epoch 31/100\n",
      "98/98 [==============================] - 0s 5ms/step - loss: 0.2086 - accuracy: 0.9253 - val_loss: 0.6975 - val_accuracy: 0.7959\n",
      "Epoch 32/100\n",
      "98/98 [==============================] - 0s 4ms/step - loss: 0.1738 - accuracy: 0.9502 - val_loss: 0.6577 - val_accuracy: 0.8367\n",
      "Epoch 33/100\n",
      "98/98 [==============================] - 0s 4ms/step - loss: 0.1512 - accuracy: 0.9447 - val_loss: 0.9157 - val_accuracy: 0.7653\n",
      "Epoch 34/100\n",
      "98/98 [==============================] - 0s 5ms/step - loss: 0.1903 - accuracy: 0.9309 - val_loss: 0.9699 - val_accuracy: 0.7755\n",
      "Epoch 35/100\n",
      "98/98 [==============================] - 0s 4ms/step - loss: 0.1621 - accuracy: 0.9514 - val_loss: 0.7819 - val_accuracy: 0.8469\n",
      "Epoch 36/100\n",
      "98/98 [==============================] - 0s 4ms/step - loss: 0.2210 - accuracy: 0.9354 - val_loss: 0.8350 - val_accuracy: 0.7959\n",
      "Epoch 37/100\n",
      "98/98 [==============================] - 0s 4ms/step - loss: 0.1020 - accuracy: 0.9707 - val_loss: 0.6723 - val_accuracy: 0.8163\n",
      "Epoch 38/100\n",
      "98/98 [==============================] - 0s 5ms/step - loss: 0.2426 - accuracy: 0.9056 - val_loss: 0.6616 - val_accuracy: 0.8265\n",
      "Epoch 39/100\n",
      "98/98 [==============================] - 0s 5ms/step - loss: 0.1622 - accuracy: 0.9476 - val_loss: 0.6251 - val_accuracy: 0.8673\n",
      "Epoch 40/100\n",
      "98/98 [==============================] - 1s 5ms/step - loss: 0.1462 - accuracy: 0.9439 - val_loss: 0.5175 - val_accuracy: 0.8367\n",
      "Epoch 41/100\n",
      "98/98 [==============================] - 0s 5ms/step - loss: 0.1902 - accuracy: 0.9315 - val_loss: 0.5086 - val_accuracy: 0.8571\n",
      "Epoch 42/100\n",
      "98/98 [==============================] - 0s 5ms/step - loss: 0.1325 - accuracy: 0.9553 - val_loss: 0.6489 - val_accuracy: 0.8367\n",
      "Epoch 43/100\n",
      "98/98 [==============================] - 0s 4ms/step - loss: 0.1310 - accuracy: 0.9674 - val_loss: 0.6940 - val_accuracy: 0.8061\n",
      "Epoch 44/100\n",
      "98/98 [==============================] - 0s 5ms/step - loss: 0.1452 - accuracy: 0.9708 - val_loss: 0.5072 - val_accuracy: 0.8673\n",
      "Epoch 45/100\n",
      "98/98 [==============================] - 0s 5ms/step - loss: 0.1107 - accuracy: 0.9680 - val_loss: 0.3363 - val_accuracy: 0.8878\n",
      "Epoch 46/100\n",
      "98/98 [==============================] - 0s 5ms/step - loss: 0.2081 - accuracy: 0.9365 - val_loss: 0.8298 - val_accuracy: 0.8265\n",
      "Epoch 47/100\n",
      "98/98 [==============================] - 0s 4ms/step - loss: 0.0668 - accuracy: 0.9777 - val_loss: 0.5272 - val_accuracy: 0.8265\n",
      "Epoch 48/100\n",
      "98/98 [==============================] - 0s 4ms/step - loss: 0.1011 - accuracy: 0.9657 - val_loss: 0.7536 - val_accuracy: 0.7959\n",
      "Epoch 49/100\n",
      "98/98 [==============================] - 0s 4ms/step - loss: 0.1794 - accuracy: 0.9325 - val_loss: 0.6759 - val_accuracy: 0.8367\n",
      "Epoch 50/100\n",
      "98/98 [==============================] - 0s 4ms/step - loss: 0.0896 - accuracy: 0.9739 - val_loss: 0.9994 - val_accuracy: 0.8061\n",
      "Epoch 51/100\n",
      "98/98 [==============================] - 0s 4ms/step - loss: 0.0945 - accuracy: 0.9639 - val_loss: 0.7979 - val_accuracy: 0.8469\n",
      "Epoch 52/100\n",
      "98/98 [==============================] - 0s 5ms/step - loss: 0.0783 - accuracy: 0.9745 - val_loss: 0.6201 - val_accuracy: 0.8776\n",
      "Epoch 53/100\n",
      "98/98 [==============================] - 0s 5ms/step - loss: 0.1103 - accuracy: 0.9529 - val_loss: 0.5023 - val_accuracy: 0.8571\n",
      "Epoch 54/100\n",
      "98/98 [==============================] - 0s 5ms/step - loss: 0.0862 - accuracy: 0.9666 - val_loss: 0.6651 - val_accuracy: 0.8265\n",
      "Epoch 55/100\n",
      "98/98 [==============================] - 0s 5ms/step - loss: 0.2228 - accuracy: 0.9544 - val_loss: 0.5010 - val_accuracy: 0.8265\n",
      "Epoch 56/100\n",
      "98/98 [==============================] - 0s 5ms/step - loss: 0.0972 - accuracy: 0.9713 - val_loss: 0.6435 - val_accuracy: 0.8265\n",
      "Epoch 57/100\n",
      "98/98 [==============================] - 0s 4ms/step - loss: 0.1411 - accuracy: 0.9530 - val_loss: 0.5601 - val_accuracy: 0.8776\n",
      "Epoch 58/100\n",
      "98/98 [==============================] - 0s 5ms/step - loss: 0.0433 - accuracy: 0.9907 - val_loss: 0.7465 - val_accuracy: 0.8367\n"
     ]
    },
    {
     "name": "stdout",
     "output_type": "stream",
     "text": [
      "Epoch 59/100\n",
      "98/98 [==============================] - 0s 5ms/step - loss: 0.0850 - accuracy: 0.9700 - val_loss: 0.6824 - val_accuracy: 0.8367\n",
      "Epoch 60/100\n",
      "98/98 [==============================] - 0s 4ms/step - loss: 0.1504 - accuracy: 0.9595 - val_loss: 0.5504 - val_accuracy: 0.8673\n",
      "Epoch 61/100\n",
      "98/98 [==============================] - 0s 5ms/step - loss: 0.0679 - accuracy: 0.9837 - val_loss: 0.6370 - val_accuracy: 0.8469\n",
      "Epoch 62/100\n",
      "98/98 [==============================] - 0s 5ms/step - loss: 0.0690 - accuracy: 0.9873 - val_loss: 0.4215 - val_accuracy: 0.8673\n",
      "Epoch 63/100\n",
      "98/98 [==============================] - 0s 5ms/step - loss: 0.0905 - accuracy: 0.9707 - val_loss: 0.4553 - val_accuracy: 0.8673\n",
      "Epoch 64/100\n",
      "98/98 [==============================] - 0s 4ms/step - loss: 0.0530 - accuracy: 0.9798 - val_loss: 0.7356 - val_accuracy: 0.8571\n",
      "Epoch 65/100\n",
      "98/98 [==============================] - 0s 5ms/step - loss: 0.0712 - accuracy: 0.9759 - val_loss: 0.6746 - val_accuracy: 0.8776\n",
      "Epoch 66/100\n",
      "98/98 [==============================] - 0s 5ms/step - loss: 0.0463 - accuracy: 0.9909 - val_loss: 0.6922 - val_accuracy: 0.8367\n",
      "Epoch 67/100\n",
      "98/98 [==============================] - 0s 5ms/step - loss: 0.0954 - accuracy: 0.9696 - val_loss: 1.1164 - val_accuracy: 0.8061\n",
      "Epoch 68/100\n",
      "98/98 [==============================] - 0s 5ms/step - loss: 0.0650 - accuracy: 0.9684 - val_loss: 0.6161 - val_accuracy: 0.8367\n",
      "Epoch 69/100\n",
      "98/98 [==============================] - 0s 5ms/step - loss: 0.0853 - accuracy: 0.9660 - val_loss: 1.1168 - val_accuracy: 0.8265\n",
      "Epoch 70/100\n",
      "98/98 [==============================] - 0s 5ms/step - loss: 0.0672 - accuracy: 0.9775 - val_loss: 0.6936 - val_accuracy: 0.8061\n",
      "Epoch 71/100\n",
      "98/98 [==============================] - 0s 5ms/step - loss: 0.0899 - accuracy: 0.9713 - val_loss: 1.2290 - val_accuracy: 0.8265\n",
      "Epoch 72/100\n",
      "98/98 [==============================] - 0s 5ms/step - loss: 0.0783 - accuracy: 0.9771 - val_loss: 0.5720 - val_accuracy: 0.8469\n",
      "Epoch 73/100\n",
      "98/98 [==============================] - 0s 5ms/step - loss: 0.0277 - accuracy: 0.9899 - val_loss: 0.7136 - val_accuracy: 0.7857\n",
      "Epoch 74/100\n",
      "98/98 [==============================] - 0s 5ms/step - loss: 0.0628 - accuracy: 0.9695 - val_loss: 0.4699 - val_accuracy: 0.8776\n",
      "Epoch 75/100\n",
      "98/98 [==============================] - 0s 4ms/step - loss: 0.1094 - accuracy: 0.9553 - val_loss: 0.8253 - val_accuracy: 0.8265\n",
      "Epoch 76/100\n",
      "98/98 [==============================] - 0s 5ms/step - loss: 0.0321 - accuracy: 0.9901 - val_loss: 0.8530 - val_accuracy: 0.8469\n",
      "Epoch 77/100\n",
      "98/98 [==============================] - 0s 5ms/step - loss: 0.0817 - accuracy: 0.9796 - val_loss: 0.5272 - val_accuracy: 0.8878\n",
      "Epoch 78/100\n",
      "98/98 [==============================] - 0s 5ms/step - loss: 0.0491 - accuracy: 0.9828 - val_loss: 0.5181 - val_accuracy: 0.8469\n",
      "Epoch 79/100\n",
      "98/98 [==============================] - 0s 5ms/step - loss: 0.0333 - accuracy: 0.9901 - val_loss: 0.6608 - val_accuracy: 0.8878\n",
      "Epoch 80/100\n",
      "98/98 [==============================] - 0s 5ms/step - loss: 0.0488 - accuracy: 0.9830 - val_loss: 1.2064 - val_accuracy: 0.8367\n",
      "Epoch 81/100\n",
      "98/98 [==============================] - 0s 5ms/step - loss: 0.0450 - accuracy: 0.9866 - val_loss: 0.5729 - val_accuracy: 0.8571\n",
      "Epoch 82/100\n",
      "98/98 [==============================] - 0s 5ms/step - loss: 0.0264 - accuracy: 0.9904 - val_loss: 0.9852 - val_accuracy: 0.8265\n",
      "Epoch 83/100\n",
      "98/98 [==============================] - 0s 5ms/step - loss: 0.0730 - accuracy: 0.9818 - val_loss: 0.3377 - val_accuracy: 0.9184\n",
      "Epoch 84/100\n",
      "98/98 [==============================] - 0s 5ms/step - loss: 0.0581 - accuracy: 0.9812 - val_loss: 0.7910 - val_accuracy: 0.8469\n",
      "Epoch 85/100\n",
      "98/98 [==============================] - 1s 5ms/step - loss: 0.0447 - accuracy: 0.9861 - val_loss: 0.5770 - val_accuracy: 0.8673\n",
      "Epoch 86/100\n",
      "98/98 [==============================] - 0s 5ms/step - loss: 0.0598 - accuracy: 0.9781 - val_loss: 0.6292 - val_accuracy: 0.8469\n",
      "Epoch 87/100\n",
      "98/98 [==============================] - 0s 5ms/step - loss: 0.0429 - accuracy: 0.9863 - val_loss: 0.7294 - val_accuracy: 0.7959\n",
      "Epoch 88/100\n",
      "98/98 [==============================] - 1s 5ms/step - loss: 0.0351 - accuracy: 0.9810 - val_loss: 0.4663 - val_accuracy: 0.8776\n",
      "Epoch 89/100\n",
      "98/98 [==============================] - 0s 5ms/step - loss: 0.0538 - accuracy: 0.9727 - val_loss: 0.5451 - val_accuracy: 0.8571\n",
      "Epoch 90/100\n",
      "98/98 [==============================] - 0s 5ms/step - loss: 0.0306 - accuracy: 0.9941 - val_loss: 0.8456 - val_accuracy: 0.8469\n",
      "Epoch 91/100\n",
      "98/98 [==============================] - 0s 5ms/step - loss: 0.0406 - accuracy: 0.9867 - val_loss: 0.8209 - val_accuracy: 0.8571\n",
      "Epoch 92/100\n",
      "98/98 [==============================] - 0s 5ms/step - loss: 0.0799 - accuracy: 0.9724 - val_loss: 0.7099 - val_accuracy: 0.8163\n",
      "Epoch 93/100\n",
      "98/98 [==============================] - 0s 5ms/step - loss: 0.0347 - accuracy: 0.9887 - val_loss: 0.4964 - val_accuracy: 0.9286\n",
      "Epoch 94/100\n",
      "98/98 [==============================] - 0s 5ms/step - loss: 0.0401 - accuracy: 0.9844 - val_loss: 0.7812 - val_accuracy: 0.8469\n",
      "Epoch 95/100\n",
      "98/98 [==============================] - 0s 5ms/step - loss: 0.0494 - accuracy: 0.9792 - val_loss: 0.4834 - val_accuracy: 0.8878\n",
      "Epoch 96/100\n",
      "98/98 [==============================] - 0s 5ms/step - loss: 0.0515 - accuracy: 0.9841 - val_loss: 0.5454 - val_accuracy: 0.8980\n",
      "Epoch 97/100\n",
      "98/98 [==============================] - 0s 5ms/step - loss: 0.0840 - accuracy: 0.9829 - val_loss: 0.8772 - val_accuracy: 0.8265\n",
      "Epoch 98/100\n",
      "98/98 [==============================] - 0s 5ms/step - loss: 0.0528 - accuracy: 0.9788 - val_loss: 0.6147 - val_accuracy: 0.8878\n",
      "Epoch 99/100\n",
      "98/98 [==============================] - 0s 5ms/step - loss: 0.0443 - accuracy: 0.9775 - val_loss: 0.9766 - val_accuracy: 0.8571\n",
      "Epoch 100/100\n",
      "98/98 [==============================] - 0s 5ms/step - loss: 0.0357 - accuracy: 0.9838 - val_loss: 0.5528 - val_accuracy: 0.8980\n"
     ]
    }
   ],
   "source": [
    "Epoch_Anz  = 100\n",
    "history = model.fit(train_iterator, \n",
    "                    validation_data = validation_iterator, \n",
    "                    epochs          = Epoch_Anz)\n"
   ]
  },
  {
   "cell_type": "markdown",
   "metadata": {},
   "source": [
    "### Visualisierung der Trainingsergebnisse\n",
    "\n",
    "Nun kann man den Verlauf des Trainings visualisieren\n",
    "Dabei wird sowohl der Fehler in den Trainingsdaten, wie auch in den Testdaten aufgetragen."
   ]
  },
  {
   "cell_type": "code",
   "execution_count": 6,
   "metadata": {},
   "outputs": [
    {
     "data": {
      "image/png": "[encoded data removed]",
      "text/plain": [
       "<Figure size 432x288 with 1 Axes>"
      ]
     },
     "metadata": {
      "needs_background": "light"
     },
     "output_type": "display_data"
    }
   ],
   "source": [
    "plt.semilogy(history.history['loss'])\n",
    "plt.semilogy(history.history['val_loss'])\n",
    "\n",
    "plt.title('model loss')\n",
    "plt.ylabel('loss')\n",
    "plt.xlabel('epoch')\n",
    "plt.legend(['train','eval'], loc='upper right')\n",
    "plt.show()"
   ]
  },
  {
   "cell_type": "markdown",
   "metadata": {},
   "source": [
    "### 5) Speichern des neuronalen Netzes\n",
    "\n",
    "Zum Abschluss wird das neuronale Netz noch für die weitere Verwendung gespeichert. Hier wird zunächst das vollständige Netz im sogenannten H5-Format gespeichert. Ein Umwandlung in das für die Programmierung im dritten Teil notwendige tflite-Format erfolgt in einem anderen Skript."
   ]
  },
  {
   "cell_type": "code",
   "execution_count": 7,
   "metadata": {},
   "outputs": [
    {
     "name": "stdout",
     "output_type": "stream",
     "text": [
      "INFO:tensorflow:Assets written to: saved_model/dig-01\\assets\n"
     ]
    }
   ],
   "source": [
    "## H5-Format\n",
    "model.save('saved_model/' + ModelNameAndVersion)"
   ]
  },
  {
   "cell_type": "code",
   "execution_count": null,
   "metadata": {},
   "outputs": [],
   "source": []
  }
 ],
 "metadata": {
  "kernelspec": {
   "display_name": "Python 3 (ipykernel)",
   "language": "python",
   "name": "python3"
  },
  "language_info": {
   "codemirror_mode": {
    "name": "ipython",
    "version": 3
   },
   "file_extension": ".py",
   "mimetype": "text/x-python",
   "name": "python",
   "nbconvert_exporter": "python",
   "pygments_lexer": "ipython3",
   "version": "3.8.12"
  }
 },
 "nbformat": 4,
 "nbformat_minor": 4
}
