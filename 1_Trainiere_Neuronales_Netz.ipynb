{
 "cells": [
  {
   "cell_type": "markdown",
   "metadata": {},
   "source": [
    "# Training eines neuronalen Netzes\n",
    "\n",
    "In diesem Skript wird das Training eines neuronalen Netzes durchgeführt. Dazu werden die folgende Schritte der Reihe nach durchgeführt:\n",
    "\n",
    "0. Vorbereitung (Laden der Bibliotheken und Einstellungen\n",
    "1. Laden der Bilder\n",
    "2. Erzeugen Trainingsdaten & Testdaten\n",
    "3. Definition und Aufbau des Netzes\n",
    "4. Training\n",
    "5. Speichern des neuronalen Netzes"
   ]
  },
  {
   "cell_type": "markdown",
   "metadata": {},
   "source": [
    "### 0) Vorbereitung\n",
    "\n",
    "##### Modelname\n",
    "Damit verschiedene Versionen des neuronalen Netzes unterschieden werden, wird gleich zu Beginn ein eindeutiger Name für das Model definiert. Dieser Name wird sollte jeweils zu Beginn jedes Skripts identisch sein, damit konsistent mit denselben Daten gearbeitet wird.\n",
    "\n",
    "##### Bibliotheken\n",
    "Anschließend müssen unterschiedliche Bibliotheken für die Datei- und Bildverarbeitung, sowie für die Definition und den Aufbau von neuronalen Netzen mittels der Bibliothek Tensorflow geladen werden"
   ]
  },
  {
   "cell_type": "code",
   "execution_count": 1,
   "metadata": {},
   "outputs": [],
   "source": [
    "###############################################################################\n",
    "\n",
    "ModelNameAndVersion = \"dignobatch\"\n",
    "\n",
    "###############################################################################\n",
    "\n",
    "\n",
    "import matplotlib.pyplot as plt\n",
    "import glob\n",
    "import os\n",
    "from PIL import Image \n",
    "import numpy as np\n",
    "from sklearn.utils import shuffle\n",
    "\n",
    "import tensorflow as tf\n",
    "from tensorflow.python.keras.layers import Dense, InputLayer, Conv2D, MaxPool2D, Flatten, BatchNormalization\n",
    "from tensorflow.keras.preprocessing.image import ImageDataGenerator\n",
    "from sklearn.model_selection import train_test_split\n"
   ]
  },
  {
   "cell_type": "markdown",
   "metadata": {},
   "source": [
    "### 1) Laden der Trainingsbilder\n",
    "Die Trainingsbilder werden aus einem Verzeichnis geladen. Da neben dem Bild auch die Klassifizierung notwendig ist, wird diese direkt im Dateinamen nach folgender Nomenklatur gespeichert:\n",
    "\n",
    "Die Bilddaten und die Klassifizierung wird in den beiden Arrays x_data (Bilddaten) und y_data (Klassifizierung) gespeichert:"
   ]
  },
  {
   "cell_type": "code",
   "execution_count": 2,
   "metadata": {},
   "outputs": [
    {
     "name": "stdout",
     "output_type": "stream",
     "text": [
      "(459, 32, 20, 3)\n",
      "(459, 11)\n"
     ]
    }
   ],
   "source": [
    "###### Festlegen der Variablen und Initialisieren der Arrays ########################\n",
    "Input_dir='bilder_resize'\n",
    "x_data = []\n",
    "y_data = []\n",
    "\n",
    "\n",
    "###### Laden der Bildateien in einer Schleife über als jpeg-Bilder ##################\n",
    "files = glob.glob(Input_dir + '/*.jpg')\n",
    "for aktfile in files:\n",
    "    img = Image.open(aktfile)                              # Laden der Bilddaten\n",
    "    data = np.array(img)\n",
    "    x_data.append(data)\n",
    "    \n",
    "    Dateiname      = os.path.basename(aktfile)             # Dateiname\n",
    "    Classification = Dateiname[0:1]                        # 1. Ziffer = Zielwert\n",
    "    if Classification == \"N\":\n",
    "        category = 10                          \n",
    "    else:\n",
    "        category = int(Classification)\n",
    "    category_vektor = tf.keras.utils.to_categorical(category, 11) # Umwandlung in Vektor\n",
    "    y_data.append(category_vektor)\n",
    "\n",
    "x_data = np.array(x_data)\n",
    "y_data = np.array(y_data)\n",
    "\n",
    "print(x_data.shape)\n",
    "print(y_data.shape)\n"
   ]
  },
  {
   "cell_type": "markdown",
   "metadata": {},
   "source": [
    "### 2) Erzeugen Trainingsdaten & Testdaten\n",
    "\n",
    "##### Mischen und Zerteilung der Trainingsdaten\n",
    "Zunächst werden die geladenen Bilder über die Funktion \"shuffle\" gemischt. Durch die Verwendung von x_data und y_data gleichzeit, wird die Zuordnung im Array erhalten\n",
    "\n",
    "Anschließend werden die Bilddaten in Trainingsdaten (x/y_train) und Testdaten (x/y_test) aufgeteilt.\n",
    "\n",
    "##### Image Augmentation\n",
    "Als nächste wird der im ersten Teil schon bekannte ImageDataGenerator definiert, der die Eingangsbilder mit den verschiedenen Parametern (shift, brightness, zoom, rotation) zufällig modifiziert und dann ausgibt.\n",
    "Hier wird nun eine Batchgröße von 4 verwendet, diese hat sich in verschiedenen Netzgeometrien bewährt.\n",
    "Der Generator wird sowohl auf die Trainings- wie auch auf die Testdaten angewendet."
   ]
  },
  {
   "cell_type": "code",
   "execution_count": 3,
   "metadata": {},
   "outputs": [
    {
     "name": "stdout",
     "output_type": "stream",
     "text": [
      "(367, 32, 20, 3)\n",
      "(92, 32, 20, 3)\n",
      "(367, 11)\n",
      "(92, 11)\n"
     ]
    }
   ],
   "source": [
    "x_data, y_data = shuffle(x_data, y_data)\n",
    "\n",
    "Training_Percentage = 0.2\n",
    "x_train, x_test, y_train, y_test = train_test_split(x_data, y_data, \n",
    "                                                    test_size=Training_Percentage)\n",
    "print(x_train.shape)\n",
    "print(x_test.shape)\n",
    "\n",
    "print(y_train.shape)\n",
    "print(y_test.shape)\n",
    "\n",
    "\n",
    "### Image Augmentation\n",
    "Shift_Range = 1\n",
    "Brightness_Range = 0.3\n",
    "Rotation_Angle = 5\n",
    "ZoomRange = 0.2\n",
    "\n",
    "### OHNE Image Augmentation\n",
    "#Shift_Range = 0\n",
    "#Brightness_Range = 0\n",
    "#Rotation_Angle = 0\n",
    "#ZoomRange = 0\n",
    "\n",
    "datagen = ImageDataGenerator(width_shift_range  = [-Shift_Range, Shift_Range], \n",
    "                             height_shift_range = [-Shift_Range, Shift_Range],\n",
    "                             brightness_range   = [1-Brightness_Range, 1+Brightness_Range],\n",
    "                             zoom_range         = [1-ZoomRange, 1+ZoomRange],\n",
    "                             rotation_range     = Rotation_Angle)\n",
    "Batch_Size = 4\n",
    "train_iterator      = datagen.flow(x_train, y_train, batch_size=Batch_Size)\n",
    "validation_iterator = datagen.flow(x_test,  y_test,  batch_size=Batch_Size)"
   ]
  },
  {
   "cell_type": "markdown",
   "metadata": {},
   "source": [
    "### 3) Definition und Aufbau des Netzes\n",
    "Das Layout besteht aus einer Abfolge von **Convolutional** und **MaxPooling** Layern. Zu Beginn kommt noch ein Layer zum Normalisieren der Eingangsdaten. Vor dem Ausgangslayer gibt es noch einen \"flachen\" Layer mit 512 Neuronen.\n",
    "\n",
    "##### Input\n",
    "* Bilder der Größe 32x20 Pixel mit 3 Farbkanalen --> input_shape = (32,20,3)\n",
    "\n",
    "##### Output\n",
    "* 11 Neuronen: Ziffern 0, 1, ..., 9 + Not-A-Number als Sonderfall\n",
    "\n",
    "#### Kompilieren\n",
    "Zum Abschluss wird hier das Netzwerk noch Kompiliert, damit es für die Verwendung verwendbar ist. Die Detailparameter hierfür findet man in der einschlägigen Literatur"
   ]
  },
  {
   "cell_type": "code",
   "execution_count": 4,
   "metadata": {},
   "outputs": [
    {
     "name": "stdout",
     "output_type": "stream",
     "text": [
      "Model: \"sequential\"\n",
      "_________________________________________________________________\n",
      "Layer (type)                 Output Shape              Param #   \n",
      "=================================================================\n",
      "conv2d (Conv2D)              (None, 32, 20, 16)        448       \n",
      "_________________________________________________________________\n",
      "max_pooling2d (MaxPooling2D) (None, 16, 10, 16)        0         \n",
      "_________________________________________________________________\n",
      "conv2d_1 (Conv2D)            (None, 16, 10, 16)        2320      \n",
      "_________________________________________________________________\n",
      "max_pooling2d_1 (MaxPooling2 (None, 8, 5, 16)          0         \n",
      "_________________________________________________________________\n",
      "conv2d_2 (Conv2D)            (None, 8, 5, 16)          2320      \n",
      "_________________________________________________________________\n",
      "max_pooling2d_2 (MaxPooling2 (None, 4, 2, 16)          0         \n",
      "_________________________________________________________________\n",
      "flatten (Flatten)            (None, 128)               0         \n",
      "_________________________________________________________________\n",
      "dense (Dense)                (None, 128)               16512     \n",
      "_________________________________________________________________\n",
      "dense_1 (Dense)              (None, 11)                1419      \n",
      "=================================================================\n",
      "Total params: 23,019\n",
      "Trainable params: 23,019\n",
      "Non-trainable params: 0\n",
      "_________________________________________________________________\n"
     ]
    }
   ],
   "source": [
    "model = tf.keras.Sequential()\n",
    "\n",
    "#model.add(BatchNormalization(input_shape=(32,20,3)))\n",
    "\n",
    "model.add(Conv2D(16, (3, 3), input_shape=(32,20,3), padding='same', activation=\"relu\"))\n",
    "model.add(MaxPool2D(pool_size=(2,2)))\n",
    "model.add(Conv2D(16, (3, 3), padding='same', activation=\"relu\"))\n",
    "model.add(MaxPool2D(pool_size=(2,2)))\n",
    "model.add(Conv2D(16, (3, 3), padding='same', activation=\"relu\"))\n",
    "model.add(MaxPool2D(pool_size=(2,2)))\n",
    "model.add(Flatten())\n",
    "model.add(Dense(128,activation=\"relu\"))\n",
    "\n",
    "model.add(Dense(11, activation = \"softmax\"))\n",
    "\n",
    "model.summary()\n",
    "\n",
    "model.compile(loss= tf.keras.losses.categorical_crossentropy, \n",
    "              optimizer= tf.keras.optimizers.Adadelta(learning_rate=1.0, rho=0.95), \n",
    "              metrics = [\"accuracy\"])"
   ]
  },
  {
   "cell_type": "markdown",
   "metadata": {},
   "source": [
    "### 4) Training des Netzes\n",
    "Beim Training müssen die Anzahl der Trainingszyklen (Epoch_Anz) und die Größe der gleichzeitig trainierten Bilder (Batch_Size) definiert werden"
   ]
  },
  {
   "cell_type": "code",
   "execution_count": 5,
   "metadata": {},
   "outputs": [
    {
     "name": "stdout",
     "output_type": "stream",
     "text": [
      "Epoch 1/50\n",
      "92/92 [==============================] - 1s 12ms/step - loss: 13.6108 - accuracy: 0.4094 - val_loss: 3.5431 - val_accuracy: 0.2500\n",
      "Epoch 2/50\n",
      "92/92 [==============================] - 0s 4ms/step - loss: 2.5019 - accuracy: 0.4956 - val_loss: 1.7458 - val_accuracy: 0.4891\n",
      "Epoch 3/50\n",
      "92/92 [==============================] - 0s 4ms/step - loss: 1.9106 - accuracy: 0.5587 - val_loss: 1.5101 - val_accuracy: 0.6522\n",
      "Epoch 4/50\n",
      "92/92 [==============================] - 0s 4ms/step - loss: 1.6161 - accuracy: 0.5996 - val_loss: 1.3585 - val_accuracy: 0.6522\n",
      "Epoch 5/50\n",
      "92/92 [==============================] - 0s 4ms/step - loss: 1.4920 - accuracy: 0.6345 - val_loss: 1.3477 - val_accuracy: 0.6522\n",
      "Epoch 6/50\n",
      "92/92 [==============================] - 0s 4ms/step - loss: 1.3849 - accuracy: 0.5977 - val_loss: 1.6205 - val_accuracy: 0.5870\n",
      "Epoch 7/50\n",
      "92/92 [==============================] - 0s 4ms/step - loss: 1.2831 - accuracy: 0.6258 - val_loss: 1.2290 - val_accuracy: 0.6848\n",
      "Epoch 8/50\n",
      "92/92 [==============================] - 0s 4ms/step - loss: 1.2473 - accuracy: 0.6289 - val_loss: 1.0298 - val_accuracy: 0.7065\n",
      "Epoch 9/50\n",
      "92/92 [==============================] - 0s 4ms/step - loss: 1.0597 - accuracy: 0.7055 - val_loss: 1.2729 - val_accuracy: 0.6413\n",
      "Epoch 10/50\n",
      "92/92 [==============================] - 0s 4ms/step - loss: 1.0041 - accuracy: 0.6787 - val_loss: 0.8833 - val_accuracy: 0.7500\n",
      "Epoch 11/50\n",
      "92/92 [==============================] - 0s 4ms/step - loss: 0.9275 - accuracy: 0.7438 - val_loss: 0.7485 - val_accuracy: 0.7609\n",
      "Epoch 12/50\n",
      "92/92 [==============================] - 0s 4ms/step - loss: 0.9336 - accuracy: 0.7065 - val_loss: 0.9467 - val_accuracy: 0.6957\n",
      "Epoch 13/50\n",
      "92/92 [==============================] - 0s 4ms/step - loss: 0.7961 - accuracy: 0.7271 - val_loss: 0.9695 - val_accuracy: 0.7500\n",
      "Epoch 14/50\n",
      "92/92 [==============================] - 0s 5ms/step - loss: 0.6769 - accuracy: 0.7951 - val_loss: 0.9508 - val_accuracy: 0.7174\n",
      "Epoch 15/50\n",
      "92/92 [==============================] - 0s 4ms/step - loss: 0.7248 - accuracy: 0.8032 - val_loss: 0.9257 - val_accuracy: 0.7065\n",
      "Epoch 16/50\n",
      "92/92 [==============================] - 0s 4ms/step - loss: 0.6530 - accuracy: 0.8157 - val_loss: 0.7523 - val_accuracy: 0.8370\n",
      "Epoch 17/50\n",
      "92/92 [==============================] - 0s 4ms/step - loss: 0.5062 - accuracy: 0.8676 - val_loss: 0.8461 - val_accuracy: 0.7717\n",
      "Epoch 18/50\n",
      "92/92 [==============================] - 0s 4ms/step - loss: 0.5127 - accuracy: 0.8338 - val_loss: 0.7968 - val_accuracy: 0.7391\n",
      "Epoch 19/50\n",
      "92/92 [==============================] - 0s 4ms/step - loss: 0.6060 - accuracy: 0.8129 - val_loss: 0.8474 - val_accuracy: 0.7717\n",
      "Epoch 20/50\n",
      "92/92 [==============================] - 0s 4ms/step - loss: 0.5093 - accuracy: 0.8473 - val_loss: 0.9613 - val_accuracy: 0.7500\n",
      "Epoch 21/50\n",
      "92/92 [==============================] - 0s 5ms/step - loss: 0.6524 - accuracy: 0.8181 - val_loss: 0.6977 - val_accuracy: 0.8152\n",
      "Epoch 22/50\n",
      "92/92 [==============================] - 0s 4ms/step - loss: 0.5745 - accuracy: 0.8226 - val_loss: 0.8952 - val_accuracy: 0.7826\n",
      "Epoch 23/50\n",
      "92/92 [==============================] - 0s 4ms/step - loss: 0.4403 - accuracy: 0.8431 - val_loss: 0.9069 - val_accuracy: 0.7935\n",
      "Epoch 24/50\n",
      "92/92 [==============================] - 0s 4ms/step - loss: 0.4277 - accuracy: 0.8869 - val_loss: 0.5215 - val_accuracy: 0.8587\n",
      "Epoch 25/50\n",
      "92/92 [==============================] - 0s 4ms/step - loss: 0.4529 - accuracy: 0.8492 - val_loss: 0.4711 - val_accuracy: 0.8478\n",
      "Epoch 26/50\n",
      "92/92 [==============================] - 0s 4ms/step - loss: 0.5044 - accuracy: 0.8432 - val_loss: 0.5321 - val_accuracy: 0.8478\n",
      "Epoch 27/50\n",
      "92/92 [==============================] - 0s 4ms/step - loss: 0.3661 - accuracy: 0.8832 - val_loss: 0.7935 - val_accuracy: 0.8261\n",
      "Epoch 28/50\n",
      "92/92 [==============================] - 0s 4ms/step - loss: 0.3776 - accuracy: 0.8777 - val_loss: 0.6466 - val_accuracy: 0.8152\n",
      "Epoch 29/50\n",
      "92/92 [==============================] - 0s 5ms/step - loss: 0.3977 - accuracy: 0.8675 - val_loss: 0.6624 - val_accuracy: 0.7609\n",
      "Epoch 30/50\n",
      "92/92 [==============================] - 0s 5ms/step - loss: 0.4075 - accuracy: 0.8405 - val_loss: 0.7994 - val_accuracy: 0.7826\n",
      "Epoch 31/50\n",
      "92/92 [==============================] - 0s 4ms/step - loss: 0.3682 - accuracy: 0.8878 - val_loss: 0.8418 - val_accuracy: 0.7935\n",
      "Epoch 32/50\n",
      "92/92 [==============================] - 0s 5ms/step - loss: 0.2962 - accuracy: 0.9140 - val_loss: 0.6803 - val_accuracy: 0.8370\n",
      "Epoch 33/50\n",
      "92/92 [==============================] - 0s 4ms/step - loss: 0.3306 - accuracy: 0.8966 - val_loss: 0.6578 - val_accuracy: 0.8478\n",
      "Epoch 34/50\n",
      "92/92 [==============================] - 0s 5ms/step - loss: 0.5805 - accuracy: 0.8545 - val_loss: 0.7600 - val_accuracy: 0.8261\n",
      "Epoch 35/50\n",
      "92/92 [==============================] - 0s 5ms/step - loss: 0.2866 - accuracy: 0.9185 - val_loss: 0.8972 - val_accuracy: 0.7717\n",
      "Epoch 36/50\n",
      "92/92 [==============================] - 0s 4ms/step - loss: 0.2876 - accuracy: 0.9106 - val_loss: 0.6347 - val_accuracy: 0.8587\n",
      "Epoch 37/50\n",
      "92/92 [==============================] - 0s 4ms/step - loss: 0.2121 - accuracy: 0.9335 - val_loss: 0.7188 - val_accuracy: 0.8370\n",
      "Epoch 38/50\n",
      "92/92 [==============================] - 0s 4ms/step - loss: 0.2315 - accuracy: 0.9348 - val_loss: 1.7642 - val_accuracy: 0.7609\n",
      "Epoch 39/50\n",
      "92/92 [==============================] - 0s 4ms/step - loss: 0.3683 - accuracy: 0.8908 - val_loss: 0.8068 - val_accuracy: 0.8804\n",
      "Epoch 40/50\n",
      "92/92 [==============================] - 0s 5ms/step - loss: 0.2857 - accuracy: 0.9076 - val_loss: 0.5357 - val_accuracy: 0.8043\n",
      "Epoch 41/50\n",
      "92/92 [==============================] - 0s 4ms/step - loss: 0.3483 - accuracy: 0.8775 - val_loss: 0.5417 - val_accuracy: 0.8696\n",
      "Epoch 42/50\n",
      "92/92 [==============================] - 0s 4ms/step - loss: 0.3433 - accuracy: 0.9072 - val_loss: 0.5260 - val_accuracy: 0.8804\n",
      "Epoch 43/50\n",
      "92/92 [==============================] - 0s 4ms/step - loss: 0.3531 - accuracy: 0.8818 - val_loss: 0.9681 - val_accuracy: 0.8804\n",
      "Epoch 44/50\n",
      "92/92 [==============================] - 0s 4ms/step - loss: 0.1869 - accuracy: 0.9512 - val_loss: 0.3863 - val_accuracy: 0.8804\n",
      "Epoch 45/50\n",
      "92/92 [==============================] - 0s 4ms/step - loss: 0.2423 - accuracy: 0.8957 - val_loss: 0.9303 - val_accuracy: 0.8370\n",
      "Epoch 46/50\n",
      "92/92 [==============================] - 0s 4ms/step - loss: 0.2051 - accuracy: 0.9387 - val_loss: 0.6815 - val_accuracy: 0.8587\n",
      "Epoch 47/50\n",
      "92/92 [==============================] - 0s 5ms/step - loss: 0.2012 - accuracy: 0.9463 - val_loss: 0.4390 - val_accuracy: 0.8478\n",
      "Epoch 48/50\n",
      "92/92 [==============================] - 0s 4ms/step - loss: 0.1572 - accuracy: 0.9463 - val_loss: 0.6133 - val_accuracy: 0.8804\n",
      "Epoch 49/50\n",
      "92/92 [==============================] - 0s 5ms/step - loss: 0.2232 - accuracy: 0.9311 - val_loss: 0.8631 - val_accuracy: 0.8587\n",
      "Epoch 50/50\n",
      "92/92 [==============================] - 0s 4ms/step - loss: 0.1971 - accuracy: 0.9299 - val_loss: 0.7718 - val_accuracy: 0.8478\n"
     ]
    }
   ],
   "source": [
    "Epoch_Anz  = 50\n",
    "history = model.fit(train_iterator, \n",
    "                    validation_data = validation_iterator, \n",
    "                    epochs          = Epoch_Anz)\n"
   ]
  },
  {
   "cell_type": "markdown",
   "metadata": {},
   "source": [
    "### Visualisierung der Trainingsergebnisse\n",
    "\n",
    "Nun kann man den Verlauf des Trainings visualisieren\n",
    "Dabei wird sowohl der Fehler in den Trainingsdaten, wie auch in den Testdaten aufgetragen."
   ]
  },
  {
   "cell_type": "code",
   "execution_count": 6,
   "metadata": {},
   "outputs": [
    {
     "data": {
      "image/png": "[encoded data removed]",
      "text/plain": [
       "<Figure size 432x288 with 1 Axes>"
      ]
     },
     "metadata": {
      "needs_background": "light"
     },
     "output_type": "display_data"
    }
   ],
   "source": [
    "plt.semilogy(history.history['loss'])\n",
    "plt.semilogy(history.history['val_loss'])\n",
    "\n",
    "plt.title('model loss')\n",
    "plt.ylabel('loss')\n",
    "plt.xlabel('epoch')\n",
    "plt.legend(['train','eval'], loc='upper right')\n",
    "plt.show()"
   ]
  },
  {
   "cell_type": "markdown",
   "metadata": {},
   "source": [
    "### 5) Speichern des neuronalen Netzes\n",
    "\n",
    "Zum Abschluss wird das neuronale Netz noch für die weitere Verwendung gespeichert. Hier wird zunächst das vollständige Netz im sogenannten H5-Format gespeichert. Ein Umwandlung in das für die Programmierung im dritten Teil notwendige tflite-Format erfolgt in einem anderen Skript."
   ]
  },
  {
   "cell_type": "code",
   "execution_count": 7,
   "metadata": {},
   "outputs": [
    {
     "name": "stdout",
     "output_type": "stream",
     "text": [
      "INFO:tensorflow:Assets written to: saved_model/dignobatch\\assets\n"
     ]
    }
   ],
   "source": [
    "## H5-Format\n",
    "model.save('saved_model/' + ModelNameAndVersion)"
   ]
  },
  {
   "cell_type": "code",
   "execution_count": null,
   "metadata": {},
   "outputs": [],
   "source": []
  }
 ],
 "metadata": {
  "kernelspec": {
   "display_name": "Python 3 (ipykernel)",
   "language": "python",
   "name": "python3"
  },
  "language_info": {
   "codemirror_mode": {
    "name": "ipython",
    "version": 3
   },
   "file_extension": ".py",
   "mimetype": "text/x-python",
   "name": "python",
   "nbconvert_exporter": "python",
   "pygments_lexer": "ipython3",
   "version": "3.8.12"
  }
 },
 "nbformat": 4,
 "nbformat_minor": 4
}
