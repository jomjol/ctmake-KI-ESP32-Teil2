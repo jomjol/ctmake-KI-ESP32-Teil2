{
 "cells": [
  {
   "cell_type": "markdown",
   "metadata": {},
   "source": [
    "# Erzeugen tflite und c-code\n",
    "\n",
    "Zur Verwendung für die Programmierung im nächsten Kapitel wird ein File im tflite-Format oder ein c-Array zur Integration in den Programmcode benötigt. Dieses wird hier aus dem gespeicherten H5-Format erzeugt.\n",
    "\n",
    "0. Vorbereitung (Laden der Bibliotheken und Einstellungen)\n",
    "1. Laden des neuronalen Netzes\n",
    "2. Umwandlung in tflite-Format\n",
    "3. Speichern als tflite-File\n",
    "4. Speichern als unsigned byte Array in c-File"
   ]
  },
  {
   "cell_type": "markdown",
   "metadata": {},
   "source": [
    "### 0) Vorbereitung\n",
    "\n",
    "##### Modelname\n",
    "ACHTUNG: hier muss der korrekte Modelname definiert werden, wie er auch im letzten Skript verwendet wurde.\n",
    "\n",
    "##### Bibliotheken\n",
    "Laden der notwendigen Bibliotheken."
   ]
  },
  {
   "cell_type": "code",
   "execution_count": null,
   "metadata": {},
   "outputs": [],
   "source": [
    "###############################################################################\n",
    "\n",
    "ModelNameAndVersion = \"dig-01\"\n",
    "\n",
    "###############################################################################\n",
    "\n",
    "from PIL import Image \n",
    "import numpy as np\n",
    "\n",
    "import tensorflow as tf"
   ]
  },
  {
   "cell_type": "markdown",
   "metadata": {},
   "source": [
    "### 1) Laden des neuronalen Netzes\n",
    "\n",
    "Mittels der Funktion \"load_model\" wird das Model geladen."
   ]
  },
  {
   "cell_type": "code",
   "execution_count": null,
   "metadata": {},
   "outputs": [],
   "source": [
    "model = tf.keras.models.load_model('saved_model/' + ModelNameAndVersion)\n",
    "\n",
    "# model.summary()"
   ]
  },
  {
   "cell_type": "markdown",
   "metadata": {},
   "source": [
    "### 2) Umwandlung in tflite-Format\n",
    "\n",
    "Mittels der TFliteConverter-Funktion wird das Model in das kompakte tflite-Format umgewandelt und anschließend als Binaryfile mit der Endung \".tflite\" gespeichert.\n",
    "\n",
    "Dieses Format kann im dritten Teil dann direkt in das entsprechende c-Modul geladen werden."
   ]
  },
  {
   "cell_type": "code",
   "execution_count": null,
   "metadata": {},
   "outputs": [],
   "source": [
    "## tflite-Format\n",
    "converter    = tf.lite.TFLiteConverter.from_keras_model(model)\n",
    "tflite_model = converter.convert()\n"
   ]
  },
  {
   "cell_type": "markdown",
   "metadata": {},
   "source": [
    "### 3) Speichern im Dateiformat\n",
    "\n",
    "Das tflite-Model kann sehr einfach als Binardatei in ein File geschrieben werden. Als Endung wird hier \"tflite\" verwendet."
   ]
  },
  {
   "cell_type": "code",
   "execution_count": null,
   "metadata": {},
   "outputs": [],
   "source": [
    "open(ModelNameAndVersion + \".tfl\", \"wb\").write(tflite_model)"
   ]
  },
  {
   "cell_type": "markdown",
   "metadata": {},
   "source": [
    "### 4) Speichern als unsigned byte Array in c-File\n",
    "\n",
    "Wenn man im späteren Progammiercode das neuronale Netz direkt im Quelltext speichern will, so ist dies über ein byte-Array möglich, welches das tflite-File enthält. Mittels einer Hilfsfunktion wird dieses hier zunächst als String erzeugt und dann in ein c-headerfile gespeichert.\n",
    "\n",
    "Zusätzlich zu dem Array selbst noch die Größe in einer Variable gespeichert. Dieses h-File kann dann direkt in den Quellcode eingebunden werden."
   ]
  },
  {
   "cell_type": "code",
   "execution_count": null,
   "metadata": {},
   "outputs": [],
   "source": [
    "def bytes_to_c_arr(data):\n",
    "    return [format(b, '#04x') for b in data]\n",
    "\n",
    "c_code = \"unsigned char tflite_model[] = \\n\"\n",
    "c_code = c_code + \"{{{}}};\".format(\", \".join(bytes_to_c_arr(tflite_model)))\n",
    "c_code = c_code + \"\\n\\nunsigned int tflite_model_len = \"+ str(len(tflite_model)) + \";\"\n",
    "print(c_code)\n",
    "\n",
    "open(ModelNameAndVersion + \".h\", \"w\").write(c_code);"
   ]
  },
  {
   "cell_type": "code",
   "execution_count": null,
   "metadata": {},
   "outputs": [],
   "source": []
  }
 ],
 "metadata": {
  "kernelspec": {
   "display_name": "Python 3 (ipykernel)",
   "language": "python",
   "name": "python3"
  },
  "language_info": {
   "codemirror_mode": {
    "name": "ipython",
    "version": 3
   },
   "file_extension": ".py",
   "mimetype": "text/x-python",
   "name": "python",
   "nbconvert_exporter": "python",
   "pygments_lexer": "ipython3",
   "version": "3.8.12"
  }
 },
 "nbformat": 4,
 "nbformat_minor": 4
}
