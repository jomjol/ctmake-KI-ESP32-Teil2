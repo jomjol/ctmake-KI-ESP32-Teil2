{
 "cells": [
  {
   "cell_type": "markdown",
   "metadata": {},
   "source": [
    "# Test der Erkenungsqualität mittels der Trainingsbilder\n",
    "\n",
    "Das im ersten Teil erzeugte und gespeicherte Netz wird hier getestet:\n",
    "\n",
    "0. Vorbereitung (Laden der Bibliotheken und Einstellungen)\n",
    "1. Laden des neuronalen Netzes\n",
    "2. Test anhand der Trainingsdaten"
   ]
  },
  {
   "cell_type": "markdown",
   "metadata": {},
   "source": [
    "### 0) Vorbereitung\n",
    "\n",
    "##### Modelname\n",
    "ACHTUNG: hier muss der korrekte Modelname definiert werden, wie er auch im letzten Skript verwendet wurde.\n",
    "\n",
    "##### Bibliotheken\n",
    "Laden der notwendigen Bibliotheken."
   ]
  },
  {
   "cell_type": "code",
   "execution_count": null,
   "metadata": {},
   "outputs": [],
   "source": [
    "###############################################################################\n",
    "\n",
    "ModelNameAndVersion = \"digit0010\"\n",
    "\n",
    "###############################################################################\n",
    "\n",
    "import matplotlib.pyplot as plt\n",
    "import glob\n",
    "import os\n",
    "from PIL import Image \n",
    "import numpy as np\n",
    "import tensorflow as tf"
   ]
  },
  {
   "cell_type": "markdown",
   "metadata": {},
   "source": [
    "### 1) Laden des neuronalen Netzes\n",
    "\n",
    "Mittels der Funktion \"load_model\" wird das Model geladen und anschließend die Architektur im Überblick nochmals ausgegeben."
   ]
  },
  {
   "cell_type": "code",
   "execution_count": null,
   "metadata": {},
   "outputs": [],
   "source": [
    "model = tf.keras.models.load_model('saved_model/' + ModelNameAndVersion)\n",
    "model.summary()\n"
   ]
  },
  {
   "cell_type": "markdown",
   "metadata": {},
   "source": [
    "### 2) Test anhand der Trainingsdaten\n",
    "\n",
    "Einen guten Eindruck über die Qualität liefert eine Iteration über alle Trainingsbilder. Dazu wird jedes Bild (ACHTUNG: schon in der Zielauflösung) einzeln geladen und durch das neuronale Netz berechnet. SOLL- und IST-Werte werden zum einen in einem Array gespeichert. \n",
    "\n",
    "Wenn diese nicht identisch sind, werden die entsprechenden Bilder und die zugehörigen Daten direkt ausgegeben. Das hilft sehr bei der Fehlersuche, denn häufige hat man noch einen Fehler in der Klassifizierung oder erkennt, dass das Bild doch so schlecht ist, dass es besser nicht verwendet werden sollte."
   ]
  },
  {
   "cell_type": "code",
   "execution_count": null,
   "metadata": {},
   "outputs": [],
   "source": [
    "Input_dir='bilder_resize'\n",
    "res = []\n",
    "\n",
    "files = glob.glob(Input_dir + '/*.jpg')\n",
    "\n",
    "for aktfile in files:\n",
    "    Dateiname      = os.path.basename(aktfile)    # Dateiname\n",
    "    Classification_SOLL = Dateiname[0:1]          # Die erste Ziffer entspricht der Zugehörigen Klassifizierung\n",
    "    if Classification_SOLL == \"N\":\n",
    "        Classification_SOLL = 10                  # NaN does not work --> convert to 10\n",
    "    else:\n",
    "        Classification_SOLL = int(Classification_SOLL)\n",
    "\n",
    "    image_in = Image.open(aktfile)\n",
    "    data = np.array(image_in)\n",
    "    img = np.reshape(data,[1,32,20,3])\n",
    "    \n",
    "    result = model.predict(img)\n",
    "   \n",
    "    classes = np.argmax(result, axis=-1)\n",
    "    Classification_IST = classes[0]\n",
    "    \n",
    "    res.append(np.array([Classification_SOLL, Classification_IST]))\n",
    "    \n",
    "    if Classification_SOLL != Classification_IST:\n",
    "        print(\"Falsche Erkennung: \" + aktfile + \" Soll: \" + str(Classification_SOLL) +  \" IST: \" + str(Classification_IST))\n",
    "        display(image_in)\n",
    "\n",
    "res = np.asarray(res)"
   ]
  },
  {
   "cell_type": "markdown",
   "metadata": {},
   "source": [
    "#### Visualisierung über die gesamten Trainingsbilder\n",
    "\n",
    "Im vorherigen Schritt wurde für jedes Bild sowohl Soll, wie auch IST-Wert gespeichert. Hier wird über die einzelnen Bilder beide Werte in einem Diagramm dargestellt."
   ]
  },
  {
   "cell_type": "code",
   "execution_count": null,
   "metadata": {},
   "outputs": [],
   "source": [
    "plt.plot(res[:,0])\n",
    "plt.plot(res[:,1])\n",
    "plt.title('Result')\n",
    "plt.ylabel('Digital Value')\n",
    "plt.xlabel('#Picture')\n",
    "plt.legend(['SOLL','IST'], loc='upper left')\n",
    "plt.show()"
   ]
  }
 ],
 "metadata": {
  "kernelspec": {
   "display_name": "Python 3 (ipykernel)",
   "language": "python",
   "name": "python3"
  },
  "language_info": {
   "codemirror_mode": {
    "name": "ipython",
    "version": 3
   },
   "file_extension": ".py",
   "mimetype": "text/x-python",
   "name": "python",
   "nbconvert_exporter": "python",
   "pygments_lexer": "ipython3",
   "version": "3.8.12"
  }
 },
 "nbformat": 4,
 "nbformat_minor": 4
}
