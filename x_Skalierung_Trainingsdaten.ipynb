{
 "cells": [
  {
   "cell_type": "markdown",
   "metadata": {},
   "source": [
    "# Skalierung Trainingsdaten\n",
    "\n",
    "Die Trainingsbilder für das neuronale Netz müssen alle die gleiche Größe haben, da der Eingangslayer eine feste Größe hat. Dieses Skript nimmt alle bilder im Ordner \"Input_dir\", skaliert diese auf die Zielgröße (targe_size_x/y) und gibt sie dann im Ausgabeverzeichnis aus. Letzeres wird vorher noch gelöscht.\n",
    "Any other image converter can be used as well.\n",
    "\n",
    "### Vorbereitung (Laden der Bibliotheken und Einstellungen)\n",
    "Für die Bildbearbeitung und Dateioperationen werden drei Bibliotheken benötigt.\n",
    "Input_dir / Output_dir = Verzeichnis für Quell- und Zieldaten\n",
    "target_size_x/y = Zielgröße für die Skalierung"
   ]
  },
  {
   "cell_type": "code",
   "execution_count": null,
   "metadata": {},
   "outputs": [],
   "source": [
    "import glob\n",
    "import os\n",
    "from PIL import Image \n",
    "\n",
    "Input_dir = 'bilder_original'\n",
    "Output_dir= 'bilder_resize'\n",
    "\n",
    "target_size_x = 20\n",
    "target_size_y = 32\n"
   ]
  },
  {
   "cell_type": "markdown",
   "metadata": {},
   "source": [
    "### Löschen der Bilder im Zielverzeichnisses"
   ]
  },
  {
   "cell_type": "code",
   "execution_count": null,
   "metadata": {},
   "outputs": [],
   "source": [
    "files = glob.glob(Output_dir + '/*.jpg')\n",
    "\n",
    "i = 0\n",
    "for f in files:\n",
    "    os.remove(f)\n",
    "    i=i+1\n",
    "    \n",
    "print(\"Es wurden \" + str(i) + \" Dateien gelöscht.\")"
   ]
  },
  {
   "cell_type": "markdown",
   "metadata": {},
   "source": [
    "### Umskalierung aller Bilder\n",
    "Hier wird auch keine Glättung oder ähnliches bei der Skalierung sondern \"Nearest\" verwendet, da dies der Bildverarbeitung in den ESP32-Bibliotheken am nächsten ist."
   ]
  },
  {
   "cell_type": "code",
   "execution_count": null,
   "metadata": {},
   "outputs": [],
   "source": [
    "files = glob.glob(Input_dir + '/*.jpg')\n",
    "for aktfile in files:\n",
    "    print(aktfile)\n",
    "    test_image = Image.open(aktfile)\n",
    "    test_image = test_image.resize((target_size_x, target_size_y), Image.NEAREST)\n",
    "    base=os.path.basename(aktfile)\n",
    "    save_name = Output_dir + '/' + base\n",
    "    test_image.save(save_name, \"JPEG\")"
   ]
  }
 ],
 "metadata": {
  "kernelspec": {
   "display_name": "Python 3 (ipykernel)",
   "language": "python",
   "name": "python3"
  },
  "language_info": {
   "codemirror_mode": {
    "name": "ipython",
    "version": 3
   },
   "file_extension": ".py",
   "mimetype": "text/x-python",
   "name": "python",
   "nbconvert_exporter": "python",
   "pygments_lexer": "ipython3",
   "version": "3.8.12"
  }
 },
 "nbformat": 4,
 "nbformat_minor": 2
}
