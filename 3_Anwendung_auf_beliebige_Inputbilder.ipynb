{
 "cells": [
  {
   "cell_type": "markdown",
   "metadata": {},
   "source": [
    "# Klassifzieren beliebiger Bilddateien\n",
    "\n",
    "In diesem Skript wird das neuronale Netz auf ein beliebiges Bild angewandt.\n",
    "\n",
    "0. Vorbereitung (Laden der Bibliotheken und Einstellungen)\n",
    "1. Laden des neuronalen Netzes\n",
    "2. Laden eines Testbildes, skalieren und Klassifizieren"
   ]
  },
  {
   "cell_type": "markdown",
   "metadata": {},
   "source": [
    "### 0) Vorbereitung\n",
    "\n",
    "##### Modelname\n",
    "ACHTUNG: hier muss der korrekte Modelname definiert werden, wie er auch im letzten Skript verwendet wurde.\n",
    "\n",
    "##### Bibliotheken\n",
    "Laden der notwendigen Bibliotheken."
   ]
  },
  {
   "cell_type": "code",
   "execution_count": null,
   "metadata": {},
   "outputs": [],
   "source": [
    "###############################################################################\n",
    "\n",
    "ModelNameAndVersion = \"digit0010\"\n",
    "\n",
    "###############################################################################\n",
    "\n",
    "from PIL import Image \n",
    "import numpy as np\n",
    "\n",
    "import tensorflow as tf"
   ]
  },
  {
   "cell_type": "markdown",
   "metadata": {},
   "source": [
    "### 1) Laden des neuronalen Netzes\n",
    "\n",
    "Mittels der Funktion \"load_model\" wird das Model geladen."
   ]
  },
  {
   "cell_type": "code",
   "execution_count": null,
   "metadata": {},
   "outputs": [],
   "source": [
    "model = tf.keras.models.load_model('saved_model/' + ModelNameAndVersion)\n",
    "\n",
    "# model.summary()"
   ]
  },
  {
   "cell_type": "markdown",
   "metadata": {},
   "source": [
    "### 2) Laden eines Testbildes, skalieren und Klassifizieren\n",
    "\n",
    "Ein beliebiges Bild (InputImageFileName) wird geladen. Anschließend wird es auf die Eingangsgröße des neuronalen Netzes skaliert und klassifiziert.\n",
    "\n",
    "Beachte: wenn die Eingangsgröße verändert wurde, muss hier auch \"target_width\" und \"target_height\" entsprechend angepasst werden."
   ]
  },
  {
   "cell_type": "code",
   "execution_count": null,
   "metadata": {},
   "outputs": [],
   "source": [
    "InputImageFileName = 'Size_Example_1.jpg'\n",
    "#InputImageFileName = 'Size_Example_2.jpg'\n",
    "\n",
    "target_width = 20\n",
    "target_height = 32\n",
    "\n",
    "image_in = Image.open(InputImageFileName)\n",
    "image_rescale = image_in.resize((target_width,target_height), Image.NEAREST)\n",
    "    \n",
    "data = np.array(image_rescale)\n",
    "img = np.reshape(data,[1,32,20,3])\n",
    "   \n",
    "classes = np.argmax(model.predict(img), axis=-1)\n",
    "Classification_IST = classes[0]\n",
    "    \n",
    "display(image_in)\n",
    "print(InputImageFileName + \" -  Ergebnis: \" + str(Classification_IST))"
   ]
  },
  {
   "cell_type": "code",
   "execution_count": null,
   "metadata": {},
   "outputs": [],
   "source": []
  }
 ],
 "metadata": {
  "kernelspec": {
   "display_name": "Python 3 (ipykernel)",
   "language": "python",
   "name": "python3"
  },
  "language_info": {
   "codemirror_mode": {
    "name": "ipython",
    "version": 3
   },
   "file_extension": ".py",
   "mimetype": "text/x-python",
   "name": "python",
   "nbconvert_exporter": "python",
   "pygments_lexer": "ipython3",
   "version": "3.8.12"
  }
 },
 "nbformat": 4,
 "nbformat_minor": 4
}
